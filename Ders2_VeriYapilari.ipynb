{
  "nbformat": 4,
  "nbformat_minor": 0,
  "metadata": {
    "colab": {
      "provenance": []
    },
    "kernelspec": {
      "name": "python3",
      "display_name": "Python 3"
    },
    "language_info": {
      "name": "python"
    }
  },
  "cells": [
    {
      "cell_type": "code",
      "execution_count": null,
      "metadata": {
        "id": "_R7JmtUxo1p3"
      },
      "outputs": [],
      "source": [
        "#Geçerli değişken tanımlaması\n",
        "degisken_1 = 10\n",
        "Degısken_1=20\n",
        "\n"
      ]
    },
    {
      "cell_type": "code",
      "source": [
        "#Geçersiz değişken tanımlaması Değişken ismi arasında boşuk olmamalıdır.\n",
        "#Özel karakter kesinlikle eklenmemelidir.\n",
        "#Değişkenlerde Türkçe Karakter kullanılmamalıdır.\n",
        "#Döngü ve Kontrol yapılarının isimleri değişken olamaz (if, for, while).\n",
        "#Büyük ve Küçük harf duyarlılığı unutulmamalıdır.\n",
        " 1degisken=10\n",
        " degisken-1 = 10"
      ],
      "metadata": {
        "id": "NNTAiGUpwZMT"
      },
      "execution_count": null,
      "outputs": []
    },
    {
      "cell_type": "code",
      "source": [
        "#Değişken Tanımlama İşlemi\n",
        "x=5\n",
        "y=\"Merhaba Dünya \"\n",
        "print(x)\n",
        "print(y)"
      ],
      "metadata": {
        "colab": {
          "base_uri": "https://localhost:8080/"
        },
        "id": "jjqpksz-wZO6",
        "outputId": "15cb98ee-60c2-4122-d857-bd2aa4dd56cd"
      },
      "execution_count": 3,
      "outputs": [
        {
          "output_type": "stream",
          "name": "stdout",
          "text": [
            "5\n",
            "Merhaba Dünya \n"
          ]
        }
      ]
    },
    {
      "cell_type": "code",
      "source": [
        "#İnteger -Tam Sayı Tanımlaması\n",
        "x=10\n",
        "print(type(x))"
      ],
      "metadata": {
        "colab": {
          "base_uri": "https://localhost:8080/"
        },
        "id": "P-WCY3c2xPU7",
        "outputId": "2f513c65-6973-42b8-9359-e2f71e725a15"
      },
      "execution_count": 4,
      "outputs": [
        {
          "output_type": "stream",
          "name": "stdout",
          "text": [
            "<class 'int'>\n"
          ]
        }
      ]
    },
    {
      "cell_type": "code",
      "source": [
        "#Float Tam Sayı Tanımlaması\n",
        "y = 45.5\n",
        "print(type(y))"
      ],
      "metadata": {
        "colab": {
          "base_uri": "https://localhost:8080/"
        },
        "id": "lA3kkUEfxPXi",
        "outputId": "d2eee064-bb9e-4f6c-c3e2-5f08fae585dd"
      },
      "execution_count": 5,
      "outputs": [
        {
          "output_type": "stream",
          "name": "stdout",
          "text": [
            "<class 'float'>\n"
          ]
        }
      ]
    },
    {
      "cell_type": "code",
      "source": [
        "#İnteger Sayıyı Float Sayıya Dönüştürme İşlemi\n",
        "x= 10\n",
        "y= float(x)\n",
        "\n",
        "print(y,type(y))"
      ],
      "metadata": {
        "colab": {
          "base_uri": "https://localhost:8080/"
        },
        "id": "sWdY-eiGxPaU",
        "outputId": "876402be-10ee-4f1d-ef0a-51198f6ffed8"
      },
      "execution_count": 7,
      "outputs": [
        {
          "output_type": "stream",
          "name": "stdout",
          "text": [
            "10.0 <class 'float'>\n"
          ]
        }
      ]
    },
    {
      "cell_type": "code",
      "source": [
        "#Float Sayıyı İnteger Sayıya Dönüştürme İşlemi\n",
        "a=12.45\n",
        "y=int(a)\n",
        "print(y,type(y))"
      ],
      "metadata": {
        "colab": {
          "base_uri": "https://localhost:8080/"
        },
        "id": "C-60uuvcxPdM",
        "outputId": "847e89a8-04e8-44c4-8d4d-fd317d247ab5"
      },
      "execution_count": 12,
      "outputs": [
        {
          "output_type": "stream",
          "name": "stdout",
          "text": [
            "12 <class 'int'>\n"
          ]
        }
      ]
    },
    {
      "cell_type": "code",
      "source": [
        "#String Metinsel İçerik Tanımlaması\n",
        "\n",
        "a=\"Metin\"\n",
        "print(a,type(a))"
      ],
      "metadata": {
        "colab": {
          "base_uri": "https://localhost:8080/"
        },
        "id": "7Dxeuj0PxPf7",
        "outputId": "2e162cf1-a49b-4f2b-a286-f9ccf39a9640"
      },
      "execution_count": 11,
      "outputs": [
        {
          "output_type": "stream",
          "name": "stdout",
          "text": [
            "Metin <class 'str'>\n"
          ]
        }
      ]
    },
    {
      "cell_type": "code",
      "source": [
        "#Boolean (True/False)- Doğru-Yanlış Tanımlaması\n",
        "a=True\n",
        "b=False\n",
        "print(b)\n",
        "print(a,type(a))"
      ],
      "metadata": {
        "colab": {
          "base_uri": "https://localhost:8080/"
        },
        "id": "w4RiZGg_xPii",
        "outputId": "28f69359-93b1-4115-8929-caafa70ce7c2"
      },
      "execution_count": 19,
      "outputs": [
        {
          "output_type": "stream",
          "name": "stdout",
          "text": [
            "False\n",
            "True <class 'bool'>\n"
          ]
        }
      ]
    },
    {
      "cell_type": "markdown",
      "source": [],
      "metadata": {
        "id": "a4uwHoiL_lO3"
      }
    },
    {
      "cell_type": "code",
      "source": [
        "#List-Liste Tanımlaması\n",
        "Listem=[1,2,3,4,5,6]\n",
        "print(type(Listem))\n",
        "print(Listem)"
      ],
      "metadata": {
        "colab": {
          "base_uri": "https://localhost:8080/"
        },
        "id": "Fl06hT6375Ol",
        "outputId": "041da3d4-acc5-4a9e-8d62-8e03c8080053"
      },
      "execution_count": 14,
      "outputs": [
        {
          "output_type": "stream",
          "name": "stdout",
          "text": [
            "<class 'list'>\n",
            "[1, 2, 3, 4, 5, 6]\n"
          ]
        }
      ]
    },
    {
      "cell_type": "code",
      "source": [
        "#Tuple-Demet Tanımlaması\n",
        "\n",
        "Meyveler=(\"Elma\",\"Armut\",\"Muz\")\n",
        "print(type(Meyveler))\n",
        "print(Meyveler)"
      ],
      "metadata": {
        "colab": {
          "base_uri": "https://localhost:8080/"
        },
        "id": "2c3er5vh75Ts",
        "outputId": "c62a815a-357f-424d-f47c-dfa6bda79570"
      },
      "execution_count": 15,
      "outputs": [
        {
          "output_type": "stream",
          "name": "stdout",
          "text": [
            "<class 'tuple'>\n",
            "('Elma', 'Armut', 'Muz')\n"
          ]
        }
      ]
    },
    {
      "cell_type": "markdown",
      "source": [
        "Dictionary - Sözlük Nedir?\n",
        "\n",
        "Sözlükler, anahtar-değer (key-value) çiftlerini depolayan veri yapılarıdır.\n",
        "Her anahtar benzersizdir ve bir değere karşılık gelir.\n",
        "Sözlükler sırasızdır ve değiştirilebilir.\n",
        "Sözlük Metotları\n",
        "\n",
        "keys(): Sözlüğün anahtarlarını döner.\n",
        "values(): Sözlüğün değerlerini döner.\n",
        "items(): Sözlüğün anahtar-değer çiftlerini döner."
      ],
      "metadata": {
        "id": "Mps4zzlp_v-b"
      }
    },
    {
      "cell_type": "code",
      "source": [
        "notlar={\n",
        "      \"Ali\":70,\n",
        "      \"Veli\":80,\n",
        "      \"Ahmet\":90\n",
        "}\n",
        "\n",
        "notlar[\"Fatma\"]=92 #yeni öğrenci ekleme\n",
        "notlar[\"Ali\"]=85 #Ali adlı öğrencinin notunu güncelleme\n",
        "print(notlar)\n"
      ],
      "metadata": {
        "colab": {
          "base_uri": "https://localhost:8080/"
        },
        "id": "v0nYcH7I_6Dt",
        "outputId": "7d12d962-f0c6-4639-c6bd-c0d00781ce55"
      },
      "execution_count": 23,
      "outputs": [
        {
          "output_type": "stream",
          "name": "stdout",
          "text": [
            "{'Ali': 85, 'Veli': 80, 'Ahmet': 90, 'Fatma': 92}\n"
          ]
        }
      ]
    },
    {
      "cell_type": "markdown",
      "source": [
        "Küme Metotları\n",
        "\n",
        "add(): Küme içerisine eleman ekler.\n",
        "\n",
        "remove(): Küme içerisinden eleman siler.\n",
        "\n",
        "union(): İki kümenin birleşimini döner.\n",
        "\n",
        "intersection(): İki kümenin kesişimini döner.\n",
        "\n",
        "difference(): İki kümenin farkını döner.\n"
      ],
      "metadata": {
        "id": "Vlo6xeZJC547"
      }
    },
    {
      "cell_type": "markdown",
      "source": [],
      "metadata": {
        "id": "QS_S8_Ge_tLD"
      }
    },
    {
      "cell_type": "code",
      "source": [
        "#Set-Küme Örneği\n",
        "kod_yazanlar={\"Ahmet \",\"Mehmet\",\"Ayşe\"}\n",
        "kod_yazmayanlar={\"Ayşe\",\"Fatma\",\"Veli\"}\n",
        "print(kod_yazanlar)\n",
        "print(kod_yazmayanlar)\n",
        "\n",
        "#Kafasına göre takılan takımlar\n",
        "ortak = kod_yazanlar.intersection(kod_yazmayanlar)\n",
        "print(\"Kafasına göre takılan öğrenci listesi : \",ortak)\n",
        "\n",
        "#Kod çalışması yapmayan öğrenci listesi\n",
        "kod_yazmayanlar=kod_yazmayanlar.difference(kod_yazanlar)\n",
        "print(\"Kod çalışması yapmayan öğrenci Listesi :\",kod_yazmayanlar)\n",
        "\n",
        "#Yazılım eğitimi öğrenci imza listesi\n",
        "\n",
        "Öğrenci_İmzaları = kod_yazanlar.union(kod_yazmayanlar)\n",
        "print(\"Yazılım eğitimi öğrenci listesi :\",Öğrenci_İmzaları)"
      ],
      "metadata": {
        "colab": {
          "base_uri": "https://localhost:8080/"
        },
        "id": "Wd791qo2_77r",
        "outputId": "fd694324-04a6-4350-e5b9-acf9fc2f5a11"
      },
      "execution_count": 33,
      "outputs": [
        {
          "output_type": "stream",
          "name": "stdout",
          "text": [
            "{'Ahmet ', 'Mehmet', 'Ayşe'}\n",
            "{'Fatma', 'Ayşe', 'Veli'}\n",
            "Kafasına göre takılan öğrenci listesi :  {'Ayşe'}\n",
            "Kod çalışması yapmayan öğrenci Listesi : {'Fatma', 'Veli'}\n",
            "Yazılım eğitimi öğrenci listesi : {'Ahmet ', 'Mehmet', 'Veli', 'Fatma', 'Ayşe'}\n"
          ]
        }
      ]
    },
    {
      "cell_type": "code",
      "source": [
        "giris = input(\"Lütfen bir sayı giriniz :\")\n",
        "try:\n",
        "  num=float(giris)\n",
        "  print(num)\n",
        "except ValueError:\n",
        "  print(\"Lütfen sayı giriniz\")"
      ],
      "metadata": {
        "colab": {
          "base_uri": "https://localhost:8080/"
        },
        "id": "sXLNzzqs_70L",
        "outputId": "3cd7f9b8-5753-443e-9eac-60d6f8520c28"
      },
      "execution_count": 34,
      "outputs": [
        {
          "output_type": "stream",
          "name": "stdout",
          "text": [
            "Lütfen bir sayı giriniz :5\n",
            "5.0\n"
          ]
        }
      ]
    },
    {
      "cell_type": "code",
      "source": [
        "#0-1 arasında random ondalık sayı üretir\n",
        "import random\n",
        "Rastgele_Sayi = random.random()\n",
        "print(Rastgele_Sayi,Rastgele_Sayi)"
      ],
      "metadata": {
        "colab": {
          "base_uri": "https://localhost:8080/"
        },
        "id": "ZFHN6uqG_7s7",
        "outputId": "fd480f45-b795-4db1-94c4-cd99af543026"
      },
      "execution_count": 36,
      "outputs": [
        {
          "output_type": "stream",
          "name": "stdout",
          "text": [
            "0.09124678484544735 0.09124678484544735\n"
          ]
        }
      ]
    },
    {
      "cell_type": "code",
      "source": [
        "#1-10 arasında rastgele tam sayı üretir.\n",
        "import random\n",
        "\n",
        "rastgele_Sayi =random.randint(1,10)#İnterger değer alınmak isteniyorsa 'randint' fonksiyonu kullanılır.\n",
        "print(rastgele_Sayi)\n"
      ],
      "metadata": {
        "colab": {
          "base_uri": "https://localhost:8080/"
        },
        "id": "oWw-eSoO_7jz",
        "outputId": "942372e2-47c8-46cf-bf21-c665141e7568"
      },
      "execution_count": 37,
      "outputs": [
        {
          "output_type": "stream",
          "name": "stdout",
          "text": [
            "6\n"
          ]
        }
      ]
    }
  ]
}